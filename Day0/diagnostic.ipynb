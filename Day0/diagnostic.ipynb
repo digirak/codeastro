{
 "cells": [
  {
   "cell_type": "code",
   "execution_count": null,
   "metadata": {},
   "outputs": [],
   "source": []
  },
  {
   "cell_type": "markdown",
   "metadata": {},
   "source": [
    "# Code/Astro Diagnostic\n",
    "\n",
    "Hello, and welcome to your first Code/Astro assignment! This is a set of exercises designed to assess your fundamental knowledge of the Python programming language. Don't worry about getting everything right. Feel free to use the internet (online Python tutorials, etc.) to help you complete this diagnostic. If you can do every exercise here, even if you didn't get some of them the first time, you're prepared for Code/Astro.\n",
    "\n",
    "If you're confused or stuck, please post on Piazza on Slack. Don't spend more than a few minutes on each exercise; if you can't figure it out after 15 minutes, it's time to ask for help! More challenging questions in each section are marked with an asterisk (*). Come back to those after you've completed all the other questions."
   ]
  },
  {
   "cell_type": "markdown",
   "metadata": {},
   "source": [
    "### I: Types and Variables"
   ]
  },
  {
   "cell_type": "markdown",
   "metadata": {},
   "source": [
    "**1.1.** Python is an object-oriented language, meaning that everything (even basic types like `int`s and `str`s) are represented as objects. Describe and give an example of each of the following types. The first is completed for you.\n",
    "\n",
    "- `int`: integers (no decimals). Example: 345\n",
    "- `str`\n",
    "- `float`\n",
    "- `tuple`\n",
    "- `dict`\n",
    "- `bool`\n",
    "- `numpy.array`\n",
    "\n",
    "**1.2.** Identify the types of the following Python objects (one per line). The first is completed for you."
   ]
  },
  {
   "cell_type": "code",
   "execution_count": null,
   "metadata": {},
   "outputs": [],
   "source": [
    "\"foo\"   # type str\n",
    "1.2\n",
    "{\"foo\": 1, \"bar\": 6}\n",
    "100\n",
    "'bar'\n",
    "(1, 2, 3)\n",
    "1e4\n",
    "6 + 1.2"
   ]
  },
  {
   "cell_type": "markdown",
   "metadata": {},
   "source": [
    "**1.3.** Check your work using the `type()` function. An example is below."
   ]
  },
  {
   "cell_type": "code",
   "execution_count": null,
   "metadata": {},
   "outputs": [],
   "source": [
    "print(type(True))"
   ]
  },
  {
   "cell_type": "markdown",
   "metadata": {},
   "source": [
    "**1.4.** What is the `type` of the object `foo` in the code snippet below? Comment the fourth line in to check."
   ]
  },
  {
   "cell_type": "code",
   "execution_count": null,
   "metadata": {},
   "outputs": [],
   "source": [
    "def foo(bar):\n",
    "    return bar\n",
    "\n",
    "# type(foo)"
   ]
  },
  {
   "cell_type": "markdown",
   "metadata": {},
   "source": [
    "**1.5.** What is the `type` of the variable `foo` in the code snippet below?"
   ]
  },
  {
   "cell_type": "code",
   "execution_count": null,
   "metadata": {},
   "outputs": [],
   "source": [
    "foo = 5 + 3.4"
   ]
  },
  {
   "cell_type": "markdown",
   "metadata": {},
   "source": [
    "**1.6** Access the first element of the following array, and assign it to the variable `foo`."
   ]
  },
  {
   "cell_type": "code",
   "execution_count": null,
   "metadata": {},
   "outputs": [],
   "source": [
    "import numpy as np\n",
    "\n",
    "my_arr = np.array([1, 2, 3])"
   ]
  },
  {
   "cell_type": "markdown",
   "metadata": {},
   "source": [
    "**1.7.** Access the value with key `foo` in the following dictionary, and assign it to the variable `bar`."
   ]
  },
  {
   "cell_type": "code",
   "execution_count": null,
   "metadata": {},
   "outputs": [],
   "source": [
    "my_dict = {'foo': 1, 'bar': 2}"
   ]
  },
  {
   "cell_type": "markdown",
   "metadata": {},
   "source": [
    "** (*) 1.8**. Think through the following code. What do you expect `bar` to be at the end? Comment in the last line in the cell below and see if you were right. \n",
    "\n",
    "Note: [this blog post](https://medium.com/@meghamohan/mutable-and-immutable-side-of-python-c2145cf72747) is a good overview of what's going on here."
   ]
  },
  {
   "cell_type": "code",
   "execution_count": null,
   "metadata": {},
   "outputs": [],
   "source": [
    "foo = [1, 2, 3]\n",
    "bar = foo\n",
    "foo.pop() # removes the last element of the list\n",
    "# print(bar)"
   ]
  },
  {
   "cell_type": "markdown",
   "metadata": {},
   "source": [
    "**2.1** Define a function that takes in two integers and returns their product."
   ]
  },
  {
   "cell_type": "code",
   "execution_count": null,
   "metadata": {},
   "outputs": [],
   "source": []
  },
  {
   "cell_type": "markdown",
   "metadata": {},
   "source": [
    "(*) **2.2** Define a [recursive](https://www.programiz.com/python-programming/recursion) function that computes the factorial of an integer. Test your function by computing 5! (the answer should be 120)."
   ]
  },
  {
   "cell_type": "code",
   "execution_count": null,
   "metadata": {},
   "outputs": [],
   "source": []
  },
  {
   "cell_type": "markdown",
   "metadata": {},
   "source": [
    "Let's define and play with a simple class."
   ]
  },
  {
   "cell_type": "code",
   "execution_count": null,
   "metadata": {},
   "outputs": [],
   "source": [
    "class Numbers(object):\n",
    "    \"\"\"\n",
    "    Class containing two floats that computes their product & sum.\n",
    "\n",
    "    Args:\n",
    "        a (float): number 1\n",
    "        b (float): number 2\n",
    "    \"\"\"\n",
    "    \n",
    "    def __init__(self, a, b):\n",
    "        self.a = a\n",
    "        self.b = b\n",
    "\n",
    "    def __repr__(self):\n",
    "        return \"The numbers {} and {}.\".format(self.a, self.b)\n",
    "        \n",
    "    def num_sum(self):\n",
    "        \"\"\"\n",
    "        Compute the sum of `a` and `b`\n",
    "\n",
    "        Returns:\n",
    "            float: sum of `a` and `b`\n",
    "        \"\"\"\n",
    "        return self.a + self.b\n",
    "    \n",
    "    def num_prod(self):\n",
    "        \"\"\"\n",
    "        Compute the product of `a` and `b`\n",
    "\n",
    "        Returns:\n",
    "            float: product of `a` and `b`\n",
    "        \"\"\"\n",
    "        return self.a * self.b\n",
    "    \n",
    "myNumbers = Numbers(1, 2)\n",
    "print(myNumbers)\n",
    "my_sum = myNumbers.num_sum()"
   ]
  },
  {
   "cell_type": "markdown",
   "metadata": {},
   "source": [
    "**2.3** Use the `Numbers` class to find the product of 100 and 350, and assign the result to the variable `my_prod`."
   ]
  },
  {
   "cell_type": "code",
   "execution_count": null,
   "metadata": {},
   "outputs": [],
   "source": []
  },
  {
   "cell_type": "markdown",
   "metadata": {},
   "source": [
    "(*) **2.4** Define a class `Integers` that inherits from `Numbers`. It should have an additional method, `fact_product` that computes the factorial of the product of two numbers. Instantiate your `Integers` class and compute the product of the factorial of 10 and 2 (you can use the function you defined in **2.2**)."
   ]
  },
  {
   "cell_type": "code",
   "execution_count": null,
   "metadata": {},
   "outputs": [],
   "source": []
  },
  {
   "cell_type": "markdown",
   "metadata": {},
   "source": [
    "### III. Imports"
   ]
  },
  {
   "cell_type": "markdown",
   "metadata": {},
   "source": [
    "**3.1** Consider the following line of code:\n",
    "\n",
    "``import scipy.ndimage``\n",
    "\n",
    "Using this line of code as an example, explain the difference between packages and modules. Do all packages need modules and do all modules need packages?"
   ]
  },
  {
   "cell_type": "code",
   "execution_count": null,
   "metadata": {},
   "outputs": [],
   "source": []
  },
  {
   "cell_type": "code",
   "execution_count": null,
   "metadata": {},
   "outputs": [],
   "source": []
  },
  {
   "cell_type": "markdown",
   "metadata": {},
   "source": [
    "**3.2** I want to use the following functions from python's `math` module: `sqrt`, `sin`, `cos`, `tan`. Write a single line of code that imports all four of these functions (there are multiple solutions). Note that it is not recommended to use the wildcard `*` when importing as it often imports many other variables, which can have unintended consequences!"
   ]
  },
  {
   "cell_type": "code",
   "execution_count": null,
   "metadata": {},
   "outputs": [],
   "source": []
  },
  {
   "cell_type": "markdown",
   "metadata": {},
   "source": [
    "**3.3** Import the package `numpy` as the variable `np` and evaluate sin(0.5) using the `sin` function available in both `math` and  `numpy`.  Do they agree?"
   ]
  },
  {
   "cell_type": "code",
   "execution_count": null,
   "metadata": {},
   "outputs": [],
   "source": []
  },
  {
   "cell_type": "markdown",
   "metadata": {},
   "source": [
    "### IV: String Formatting"
   ]
  },
  {
   "cell_type": "markdown",
   "metadata": {},
   "source": [
    "**4.1** Use string formatting to print out the randomly generated number stored in the variable `rand` to 5 decimal places. For example, if the random number is 0.12984737, the output should be `0.12985`. In the code below, we have already generated the random number for you."
   ]
  },
  {
   "cell_type": "code",
   "execution_count": null,
   "metadata": {},
   "outputs": [],
   "source": [
    "import random\n",
    "rand = random.random()\n",
    "\n",
    "# print something here"
   ]
  },
  {
   "cell_type": "code",
   "execution_count": null,
   "metadata": {},
   "outputs": [],
   "source": []
  },
  {
   "cell_type": "markdown",
   "metadata": {},
   "source": [
    "**4.2** Use string formatting to print out your python version and your python executable directory. We have stored your python executable directory in `python_dir`, your python major version number in `python_version_major`, and your python minor version number in `python_version_minor`. For example, if my python executable is in `/home/codeastro/anaconda3`, my python major version number is `3`, and my python minor version number is `8`, I should print out the following:\n",
    "\n",
    "`Python 3.8 can be run from /home/codeastro/anaconda3 folder`"
   ]
  },
  {
   "cell_type": "code",
   "execution_count": null,
   "metadata": {},
   "outputs": [],
   "source": [
    "import sys\n",
    "python_dir = sys.prefix\n",
    "python_version_major = sys.version_info.major\n",
    "python_version_minor = sys.version_info.minor\n",
    "\n",
    "### print something here"
   ]
  },
  {
   "cell_type": "markdown",
   "metadata": {},
   "source": [
    "### V: Lists"
   ]
  },
  {
   "cell_type": "markdown",
   "metadata": {},
   "source": [
    "Here are three different ways to construct a list\n",
    "\n",
    "1. Within a loop\n",
    "1. Using list comprehension (see https://www.pythonforbeginners.com/basics/list-comprehensions-in-python)\n",
    "1. Using the multiplication property of lists (see https://thehelloworldprogram.com/python/python-list-operations/)\n",
    "\n",
    "First, lets create a 100-element long list filled with zeros using a for loop"
   ]
  },
  {
   "cell_type": "code",
   "execution_count": null,
   "metadata": {},
   "outputs": [],
   "source": [
    "zeros = []\n",
    "for i in range(100):\n",
    "    zeros.append(i)"
   ]
  },
  {
   "cell_type": "markdown",
   "metadata": {},
   "source": [
    "**5.1** Now use list multiplication to create the same 100-element long list filled with zeros"
   ]
  },
  {
   "cell_type": "code",
   "execution_count": null,
   "metadata": {},
   "outputs": [],
   "source": []
  },
  {
   "cell_type": "markdown",
   "metadata": {},
   "source": [
    "(*) **5.2** Use list comprehension to create a list containing all even numbers between 0 and 100 with a single line of code."
   ]
  },
  {
   "cell_type": "code",
   "execution_count": null,
   "metadata": {},
   "outputs": [],
   "source": []
  },
  {
   "cell_type": "markdown",
   "metadata": {},
   "source": [
    "As you saw in exercise 5.1, list operators operate on the entire list, not on the individual elements.\n",
    "\n",
    "**5.3** Add 1 to each element in the list. Save the modified list into a new variable called \"ones\""
   ]
  },
  {
   "cell_type": "code",
   "execution_count": null,
   "metadata": {},
   "outputs": [],
   "source": []
  },
  {
   "cell_type": "markdown",
   "metadata": {},
   "source": [
    "### VI: Numpy Arrays"
   ]
  },
  {
   "cell_type": "markdown",
   "metadata": {},
   "source": [
    "It is quite common in astronomy and many other applications to perform mathematical operations on each element of a list or array. Using the built-in Python list type forces you to loop over the items in the list and operate on the elements one at a time. Looping over long lists in Python is very slow and bad practice.\n",
    "\n",
    "Using numpy arrays allows for operations to be performed on an entire array at once. In reality a loop is still happening, but the numpy team programmed the loop in C so that it is much much faster.\n",
    "\n",
    "Numpy can do a lot more than vector operations. Its a large, powerful package that you will use very often. See https://numpy.org for more information.\n",
    "\n",
    "This example illustrates the different behavior for the + operator for lists and arrays."
   ]
  },
  {
   "cell_type": "code",
   "execution_count": null,
   "metadata": {},
   "outputs": [],
   "source": [
    "import numpy as np\n",
    "\n",
    "x = [1, 2, 3, 4, 5]\n",
    "# lets divide each element by 2\n",
    "for i in range(len(x)):\n",
    "    x[i] /= 2\n",
    "    \n",
    "# Now lets do the same with a numpy array\n",
    "x = np.array([1, 2, 3, 4, 5])\n",
    "x = x / 2\n",
    "\n",
    "# See how easy!\n",
    "\n",
    "# We can also create arrays with more than one dimension\n",
    "# this creates a 3D array with shape 10 rows by 12 columns\n",
    "arr = np.zeros((10, 12))\n",
    "\n",
    "# use the .shape attribute of the array to check the shape\n",
    "print(arr.shape)\n",
    "\n",
    "# We can use indexing and slicing to extract and/or operate on a subset of an array\n",
    "# see https://www.pythoninformer.com/python-libraries/numpy/index-and-slice/\n",
    "# lets add 1 to the single element that is in the 0th position in both the rows and columns\n",
    "arr[0, 0] = 1\n",
    "\n",
    "# now add 10 to everything in the in the 0th row (first dimension)\n",
    "arr[0, :] += 10\n",
    "# now everything in the 10th column (second dimension)\n",
    "arr[:, 10] += 10\n",
    "# now every other element in the 4th row\n",
    "arr[4, ::2] += 10\n",
    "\n",
    "print(arr)"
   ]
  },
  {
   "cell_type": "markdown",
   "metadata": {},
   "source": [
    "**6.1** Create a 9x9 array filled with 1 in every element. Hint: there is a `np.ones` function too."
   ]
  },
  {
   "cell_type": "code",
   "execution_count": null,
   "metadata": {},
   "outputs": [],
   "source": [
    "x = np.ones((9, 9))"
   ]
  },
  {
   "cell_type": "markdown",
   "metadata": {},
   "source": [
    "**6.2** Multiply every element in the 0th row by 100 using slicing"
   ]
  },
  {
   "cell_type": "code",
   "execution_count": null,
   "metadata": {},
   "outputs": [],
   "source": [
    "x[0, :] *= 100\n",
    "print(x)"
   ]
  },
  {
   "cell_type": "markdown",
   "metadata": {},
   "source": [
    "Your array should now look like this"
   ]
  },
  {
   "cell_type": "raw",
   "metadata": {},
   "source": [
    "[[100. 100. 100. 100. 100. 100. 100. 100. 100.]\n",
    " [  1.   1.   1.   1.   1.   1.   1.   1.   1.]\n",
    " [  1.   1.   1.   1.   1.   1.   1.   1.   1.]\n",
    " [  1.   1.   1.   1.   1.   1.   1.   1.   1.]\n",
    " [  1.   1.   1.   1.   1.   1.   1.   1.   1.]\n",
    " [  1.   1.   1.   1.   1.   1.   1.   1.   1.]\n",
    " [  1.   1.   1.   1.   1.   1.   1.   1.   1.]\n",
    " [  1.   1.   1.   1.   1.   1.   1.   1.   1.]\n",
    " [  1.   1.   1.   1.   1.   1.   1.   1.   1.]]"
   ]
  },
  {
   "cell_type": "markdown",
   "metadata": {},
   "source": [
    "(*) **6.3** Extract every 3rd element from the 4th column of the array that you created in step 6.2"
   ]
  },
  {
   "cell_type": "code",
   "execution_count": null,
   "metadata": {},
   "outputs": [],
   "source": []
  },
  {
   "cell_type": "markdown",
   "metadata": {},
   "source": [
    "**6.4** Reshape the array into a 1-dimensional vector"
   ]
  },
  {
   "cell_type": "code",
   "execution_count": null,
   "metadata": {},
   "outputs": [],
   "source": []
  },
  {
   "cell_type": "markdown",
   "metadata": {},
   "source": [
    "**6.5** Modify the 4th element of the vector x. Change the value to 20."
   ]
  },
  {
   "cell_type": "code",
   "execution_count": null,
   "metadata": {},
   "outputs": [],
   "source": [
    "x = np.array([0, 1, 2, 3, 4, 5, 6])\n",
    "y = x"
   ]
  },
  {
   "cell_type": "markdown",
   "metadata": {},
   "source": [
    "**6.6** Print the 4th element of the vector y. Was y also modified as a result of modifying x?"
   ]
  },
  {
   "cell_type": "code",
   "execution_count": null,
   "metadata": {},
   "outputs": [],
   "source": []
  },
  {
   "cell_type": "markdown",
   "metadata": {},
   "source": [
    "If I wanted to loop over the lines of a file and append each line to a list but I don't know how many lines are in the file, would it be more appropriate to use a list or an array?"
   ]
  },
  {
   "cell_type": "code",
   "execution_count": null,
   "metadata": {},
   "outputs": [],
   "source": []
  },
  {
   "cell_type": "markdown",
   "metadata": {},
   "source": [
    "If I needed to calculate the square root of 10000 numbers would it be better to use a list or an array?"
   ]
  },
  {
   "cell_type": "code",
   "execution_count": null,
   "metadata": {},
   "outputs": [],
   "source": []
  },
  {
   "cell_type": "markdown",
   "metadata": {},
   "source": [
    "### VII: Dictionaries"
   ]
  },
  {
   "cell_type": "markdown",
   "metadata": {},
   "source": [
    "**7.1** Construct a dictionary where the keys are the elements of the `lorem` list below and the values are the 2nd character in each word. First construct this dictionary using a loop, then construct the same dictionary using dictionary comprehension. See here https://www.geeksforgeeks.org/python-dictionary-comprehension/ for dictionary comprehension syntax."
   ]
  },
  {
   "cell_type": "code",
   "execution_count": null,
   "metadata": {},
   "outputs": [],
   "source": [
    "lorem = ['Lorem', 'ipsum', 'dolor', 'sit', 'amet,', 'consectetur',\n",
    "         'adipiscing', 'elit,', 'sed', 'do', 'eiusmod', 'tempor',\n",
    "         'incididunt', 'ut', 'labore', 'et', 'dolore', 'magna', 'aliqua.']"
   ]
  },
  {
   "cell_type": "markdown",
   "metadata": {},
   "source": [
    "**7.2** Update the values to 0 for the following keys without using a loop. Hint: lookup the `update` method for Python dictionaries"
   ]
  },
  {
   "cell_type": "code",
   "execution_count": null,
   "metadata": {},
   "outputs": [],
   "source": [
    "changes = ['dolor', 'elit', 'tempor', 'magna']"
   ]
  },
  {
   "cell_type": "markdown",
   "metadata": {},
   "source": [
    "**7.3** Loop over the key value pairs and print each pair in the following format `<key>: <value>`"
   ]
  },
  {
   "cell_type": "code",
   "execution_count": null,
   "metadata": {},
   "outputs": [],
   "source": []
  },
  {
   "cell_type": "markdown",
   "metadata": {},
   "source": [
    "**7.4** Remove all key/value pairs where the value is \"o\""
   ]
  },
  {
   "cell_type": "code",
   "execution_count": null,
   "metadata": {},
   "outputs": [],
   "source": []
  }
 ],
 "metadata": {
  "kernelspec": {
   "display_name": "Python 3",
   "language": "python",
   "name": "python3"
  },
  "language_info": {
   "codemirror_mode": {
    "name": "ipython",
    "version": 3
   },
   "file_extension": ".py",
   "mimetype": "text/x-python",
   "name": "python",
   "nbconvert_exporter": "python",
   "pygments_lexer": "ipython3",
   "version": "3.7.6"
  },
  "toc": {
   "base_numbering": 1,
   "nav_menu": {},
   "number_sections": true,
   "sideBar": true,
   "skip_h1_title": false,
   "title_cell": "Table of Contents",
   "title_sidebar": "Contents",
   "toc_cell": false,
   "toc_position": {},
   "toc_section_display": true,
   "toc_window_display": false
  },
  "varInspector": {
   "cols": {
    "lenName": 16,
    "lenType": 16,
    "lenVar": 40
   },
   "kernels_config": {
    "python": {
     "delete_cmd_postfix": "",
     "delete_cmd_prefix": "del ",
     "library": "var_list.py",
     "varRefreshCmd": "print(var_dic_list())"
    },
    "r": {
     "delete_cmd_postfix": ") ",
     "delete_cmd_prefix": "rm(",
     "library": "var_list.r",
     "varRefreshCmd": "cat(var_dic_list()) "
    }
   },
   "types_to_exclude": [
    "module",
    "function",
    "builtin_function_or_method",
    "instance",
    "_Feature"
   ],
   "window_display": false
  }
 },
 "nbformat": 4,
 "nbformat_minor": 4
}
