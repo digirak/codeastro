{
 "cells": [
  {
   "cell_type": "markdown",
   "metadata": {},
   "source": [
    "# Code Profiling : Analyze the cProfile output\n",
    "\n",
    "We will use the `pstats` module to read and analyze the outupt of the profiler.\n"
   ]
  },
  {
   "cell_type": "code",
   "execution_count": 2,
   "metadata": {},
   "outputs": [],
   "source": [
    "import pstats\n",
    "mystats = pstats.Stats(\"profiler_output.txt\")"
   ]
  },
  {
   "cell_type": "markdown",
   "metadata": {},
   "source": [
    "## Display the top 15 functions that took the longest time to run\n",
    "\n",
    "Even in such a short script, python called millions of function! A lot of them are super quick and really not what we are after. Typically, we want to find the few functions that are bottlenecks in our code.\n",
    "\n",
    "The function below sorts the functions by which took the longest to run, and prints out only the stats of the top 15 functions that took longest to run. The columns below mean:\n",
    "  * ncalls: number of times this function was called\n",
    "  * tottime: the total execution time spent in this code NOT including calls to other functions\n",
    "  * percall: this first percall divides tottime by ncalls. The amount of time per call spent solely in this function.\n",
    "  * cumtime: the total execution time spent in this code INCLUDING calls to sub functions. `cumtime > tottime always.\n",
    "  * percall: second percall divides cumtime by ncalls\n",
    "  * filename: the name of the function being considered\n",
    "\n",
    "Both `tottime` and `cumtime` are useful. A function with a high `tottime` means we should focus on speeding up this function. A function with only a high `cumtime` means we should see what this function is calling to improve runtime.\n",
    "  * `_newton_solver()` is a function with a higher tottime. We should look at the lines in that function to check out how to speed it up.\n",
    "  * `_logl()` is a function with a low tottime but a very high `cumtime`. We should look at the functions it calls to figure out what takes up so much time.\n",
    "\n",
    "Generally, we want to put some filters on `print_stats`, becuase otherwise there will be so much printed out it is unmanageable. \n"
   ]
  },
  {
   "cell_type": "code",
   "execution_count": 3,
   "metadata": {
    "tags": []
   },
   "outputs": [
    {
     "output_type": "stream",
     "name": "stdout",
     "text": "Wed Jun 24 20:37:57 2020    profiler_output.txt\n\n         2812546 function calls (2771074 primitive calls) in 23.412 seconds\n\n   Ordered by: internal time\n   List reduced from 4879 to 15 due to restriction <15>\n\n   ncalls  tottime  percall  cumtime  percall filename:lineno(function)\n      706    7.445    0.011    7.844    0.011 /usr/local/lib/python3.7/site-packages/orbitize/kepler.py:173(_newton_solver)\n      706    5.990    0.008   16.992    0.024 /usr/local/lib/python3.7/site-packages/orbitize/kepler.py:17(calc_orbit)\n      353    1.137    0.003    1.166    0.003 /usr/local/lib/python3.7/site-packages/orbitize/lnlike.py:8(chi2_lnlike)\n      706    0.964    0.001    0.964    0.001 /usr/local/lib/python3.7/site-packages/orbitize/system.py:377(radec2seppa)\n22283/21302    0.807    0.000    1.040    0.000 {built-in method numpy.core._multiarray_umath.implement_array_function}\n      706    0.720    0.001    9.424    0.013 /usr/local/lib/python3.7/site-packages/orbitize/kepler.py:111(_calc_ecc_anom)\n    12722    0.520    0.000    0.520    0.000 {function Quantity.__array_ufunc__ at 0x1129f8290}\n     2118    0.456    0.000    0.456    0.000 {method 'normal' of 'numpy.random.mtrand.RandomState' objects}\n  124/108    0.446    0.004    0.488    0.005 {built-in method _imp.create_dynamic}\n      706    0.332    0.000    0.332    0.000 /usr/local/lib/python3.7/site-packages/orbitize/kepler.py:245(_mikkola_solver)\n      353    0.332    0.001    5.210    0.015 /usr/local/lib/python3.7/site-packages/orbitize/sampler.py:178(prepare_samples)\n     2118    0.240    0.000    0.240    0.000 {method 'uniform' of 'numpy.random.mtrand.RandomState' objects}\n    28941    0.227    0.000    0.227    0.000 {built-in method numpy.array}\n      353    0.191    0.001   16.582    0.047 /usr/local/lib/python3.7/site-packages/orbitize/sampler.py:274(reject)\n      353    0.188    0.001   14.914    0.042 /usr/local/lib/python3.7/site-packages/orbitize/system.py:184(compute_model)\n\n\n"
    },
    {
     "output_type": "execute_result",
     "data": {
      "text/plain": "<pstats.Stats at 0x10df1f690>"
     },
     "metadata": {},
     "execution_count": 3
    }
   ],
   "source": [
    "mystats.sort_stats(\"cumtime\").print_stats(15)"
   ]
  },
  {
   "cell_type": "markdown",
   "metadata": {},
   "source": [
    "We can also apply multiple filters. For example let's look at the top 15 numpy functions that took the most time to run. Note that the order of the filtering matters. This command first selects every function with numpy in the name, followed by taking the top 15. Calling `print_states(15, 'numpy')` would pick the top 15 longest runtime functions, and downselecting which has numpy in the name from those. That would give us less than 15 numpy functions."
   ]
  },
  {
   "cell_type": "code",
   "execution_count": null,
   "metadata": {
    "tags": []
   },
   "outputs": [],
   "source": [
    "mystats.sort_stats(\"time\").print_stats('numpy', 15)"
   ]
  },
  {
   "cell_type": "markdown",
   "metadata": {},
   "source": [
    "## Activity Part 1: Analyze the output\n",
    "\n",
    "Generate the output above on your own by running `python -m cProfile -o profiler_output.txt profile_orbitize.py` and answer the following questions by analyzing the output.\n",
    "\n",
    "1. Which function takes up the most runtime (not including calls to sub-functions)?\n",
    "\n",
    "2. Which function takes up the most runtime (including calls to sub-functions)?\n",
    "\n",
    "3. Which function is called the most? Which `orbitize` function is called the most?\n",
    "\n",
    "4. If we had the magical ability to speed up one function by a factor of 2, which function should we speed up? What is the improvement in end-to-end runtime of the script?\n",
    "\n"
   ]
  },
  {
   "cell_type": "code",
   "execution_count": 6,
   "metadata": {
    "tags": []
   },
   "outputs": [
    {
     "output_type": "stream",
     "name": "stdout",
     "text": "Wed Jun 24 20:37:57 2020    profiler_output.txt\n\n         2812546 function calls (2771074 primitive calls) in 23.412 seconds\n\n   Ordered by: internal time\n   List reduced from 4879 to 15 due to restriction <15>\n\n   ncalls  tottime  percall  cumtime  percall filename:lineno(function)\n      706    7.445    0.011    7.844    0.011 /usr/local/lib/python3.7/site-packages/orbitize/kepler.py:173(_newton_solver)\n      706    5.990    0.008   16.992    0.024 /usr/local/lib/python3.7/site-packages/orbitize/kepler.py:17(calc_orbit)\n      353    1.137    0.003    1.166    0.003 /usr/local/lib/python3.7/site-packages/orbitize/lnlike.py:8(chi2_lnlike)\n      706    0.964    0.001    0.964    0.001 /usr/local/lib/python3.7/site-packages/orbitize/system.py:377(radec2seppa)\n22283/21302    0.807    0.000    1.040    0.000 {built-in method numpy.core._multiarray_umath.implement_array_function}\n      706    0.720    0.001    9.424    0.013 /usr/local/lib/python3.7/site-packages/orbitize/kepler.py:111(_calc_ecc_anom)\n    12722    0.520    0.000    0.520    0.000 {function Quantity.__array_ufunc__ at 0x1129f8290}\n     2118    0.456    0.000    0.456    0.000 {method 'normal' of 'numpy.random.mtrand.RandomState' objects}\n  124/108    0.446    0.004    0.488    0.005 {built-in method _imp.create_dynamic}\n      706    0.332    0.000    0.332    0.000 /usr/local/lib/python3.7/site-packages/orbitize/kepler.py:245(_mikkola_solver)\n      353    0.332    0.001    5.210    0.015 /usr/local/lib/python3.7/site-packages/orbitize/sampler.py:178(prepare_samples)\n     2118    0.240    0.000    0.240    0.000 {method 'uniform' of 'numpy.random.mtrand.RandomState' objects}\n    28941    0.227    0.000    0.227    0.000 {built-in method numpy.array}\n      353    0.191    0.001   16.582    0.047 /usr/local/lib/python3.7/site-packages/orbitize/sampler.py:274(reject)\n      353    0.188    0.001   14.914    0.042 /usr/local/lib/python3.7/site-packages/orbitize/system.py:184(compute_model)\n\n\n"
    },
    {
     "output_type": "execute_result",
     "data": {
      "text/plain": "<pstats.Stats at 0x10df1f690>"
     },
     "metadata": {},
     "execution_count": 6
    }
   ],
   "source": [
    "mystats.sort_stats(\"time\").print_stats(15)"
   ]
  },
  {
   "cell_type": "code",
   "execution_count": 7,
   "metadata": {
    "tags": []
   },
   "outputs": [
    {
     "output_type": "stream",
     "name": "stdout",
     "text": "Wed Jun 24 20:37:57 2020    profiler_output.txt\n\n         2812546 function calls (2771074 primitive calls) in 23.412 seconds\n\n   Ordered by: cumulative time\n   List reduced from 4879 to 15 due to restriction <15>\n\n   ncalls  tottime  percall  cumtime  percall filename:lineno(function)\n    997/1    0.005    0.000   23.413   23.413 {built-in method builtins.exec}\n        1    0.000    0.000   23.413   23.413 profile_orbitize.py:17(<module>)\n        1    0.041    0.041   21.850   21.850 /usr/local/lib/python3.7/site-packages/orbitize/sampler.py:364(run_sampler)\n      706    5.990    0.008   16.992    0.024 /usr/local/lib/python3.7/site-packages/orbitize/kepler.py:17(calc_orbit)\n      353    0.191    0.001   16.582    0.047 /usr/local/lib/python3.7/site-packages/orbitize/sampler.py:274(reject)\n      353    0.083    0.000   16.330    0.046 /usr/local/lib/python3.7/site-packages/orbitize/sampler.py:46(_logl)\n      353    0.188    0.001   14.914    0.042 /usr/local/lib/python3.7/site-packages/orbitize/system.py:184(compute_model)\n      706    0.720    0.001    9.424    0.013 /usr/local/lib/python3.7/site-packages/orbitize/kepler.py:111(_calc_ecc_anom)\n      706    7.445    0.011    7.844    0.011 /usr/local/lib/python3.7/site-packages/orbitize/kepler.py:173(_newton_solver)\n      353    0.332    0.001    5.210    0.015 /usr/local/lib/python3.7/site-packages/orbitize/sampler.py:178(prepare_samples)\n    12722    0.092    0.000    1.565    0.000 /usr/local/lib/python3.7/site-packages/astropy/units/quantity.py:434(__array_ufunc__)\n9255/4988    0.007    0.000    1.546    0.000 <frozen importlib._bootstrap>:1009(_handle_fromlist)\n   1137/2    0.006    0.000    1.534    0.767 <frozen importlib._bootstrap>:978(_find_and_load)\n   1137/2    0.005    0.000    1.534    0.767 <frozen importlib._bootstrap>:948(_find_and_load_unlocked)\n   1075/2    0.001    0.000    1.533    0.767 <frozen importlib._bootstrap>:211(_call_with_frames_removed)\n\n\n"
    },
    {
     "output_type": "execute_result",
     "data": {
      "text/plain": "<pstats.Stats at 0x10df1f690>"
     },
     "metadata": {},
     "execution_count": 7
    }
   ],
   "source": [
    "mystats.sort_stats(\"cumtime\").print_stats(15)"
   ]
  },
  {
   "cell_type": "code",
   "execution_count": 13,
   "metadata": {
    "tags": []
   },
   "outputs": [
    {
     "output_type": "stream",
     "name": "stdout",
     "text": "Wed Jun 24 20:37:57 2020    profiler_output.txt\n\n         2812546 function calls (2771074 primitive calls) in 23.412 seconds\n\n   Ordered by: call count\n   List reduced from 4879 to 10 due to restriction <10>\n\n   ncalls  tottime  percall  cumtime  percall filename:lineno(function)\n   293425    0.075    0.000    0.085    0.000 {built-in method builtins.isinstance}\n   150938    0.070    0.000    0.137    0.000 {built-in method builtins.getattr}\n141840/138666    0.023    0.000    0.025    0.000 {built-in method builtins.len}\n    93782    0.029    0.000    0.032    0.000 /usr/local/lib/python3.7/site-packages/astropy/units/core.py:732(__hash__)\n    82292    0.011    0.000    0.011    0.000 {method 'append' of 'list' objects}\n58614/58549    0.034    0.000    0.038    0.000 {built-in method builtins.hasattr}\n    49604    0.024    0.000    0.024    0.000 /usr/local/lib/python3.7/site-packages/astropy/units/utils.py:271(resolve_fractions)\n    49312    0.017    0.000    0.017    0.000 /usr/local/lib/python3.7/site-packages/astropy/units/core.py:1609(name)\n    46144    0.044    0.000    0.077    0.000 /usr/local/lib/python3.7/site-packages/astropy/units/core.py:2127(add_unit)\n42643/42641    0.044    0.000    0.056    0.000 {method 'view' of 'numpy.ndarray' objects}\n\n\n"
    },
    {
     "output_type": "execute_result",
     "data": {
      "text/plain": "<pstats.Stats at 0x10df1f690>"
     },
     "metadata": {},
     "execution_count": 13
    }
   ],
   "source": [
    "mystats.sort_stats(\"cum\").print_stats(10)"
   ]
  },
  {
   "cell_type": "markdown",
   "metadata": {},
   "source": [
    "## Activity Part 2: Investigate why `_logl` takes so long\n",
    "\n",
    "`_logl()` is a helper function in `orbitize!` to compute the log likelihood of the data given the model. The `_logl()` function itself has a short runtime but it is calling something that takes a long time that makes it have a long `cumtime`. We can use the `print_callees()` function to look at the stats of all the functions it calls.\n",
    "\n",
    "We can see that `compute_model` is the function with the highest cumtime, but its tottime is low, so we something it calls takes all the time. We must dig deeper! Keep digging down recursively to find what function called within `_logl()` that takes the longest."
   ]
  },
  {
   "cell_type": "code",
   "execution_count": null,
   "metadata": {},
   "outputs": [],
   "source": [
    "mystats.print_callees('_logl')"
   ]
  },
  {
   "cell_type": "markdown",
   "metadata": {},
   "source": [
    "## Activity Part 3: Which function calls `numpy.array` the most?\n",
    "\n",
    "`numpy.array` is a popular function because it gets called anytime a new numpy array gets created. We can use `print_callers()` to see which functions call it to look into potentially reducing the number of array creations to speed up the code. Which function in `orbitize` calls `numpy.array` the most times per function call? (it's harder than it looks)"
   ]
  },
  {
   "cell_type": "code",
   "execution_count": null,
   "metadata": {},
   "outputs": [],
   "source": [
    "mystats.print_callers('numpy.array')"
   ]
  },
  {
   "cell_type": "markdown",
   "metadata": {},
   "source": [
    "# Code Profiling Strategy\n",
    "\n",
    "![](imgs/code_speedup.png)\n",
    "\n",
    "Generally, it is important to focus your effort on speeding up the 1 or 2 slowest functions. If you speed up something that takes 50% of the runtime by a factor of 100, you speed up the code by a factor of 2. Even if a piece of code takes 10% of the runtime, a factor of 2 improvement (which by itself is often hard to get) only gives you a 5% improvement in the end. **Focus your effort on optimizing the runtime of the one or two functions that take the most amount of time.**\n",
    "\n",
    "For all else, it is generally more important to optimize code readibility over runtime. Code that is more readible is less prone to bugs and eaiser to maintain. If a piece of code takes only 0.0001% of the runtime, any amount of speed up is not worth making the code hard to read (from a person-hour perspective). Many times, it is difficult to gain more than a factor of 2 speed up in runtime. Definitely think about the potential gain in speed-up versus how long it takes to write and maintian the code.\n",
    "\n",
    "## Some Ways to Speed up Your Code\n",
    "\n",
    "If you identified the critical chunk of code to speed up, the general strategy is to remove unncessary computations as much as possible. There's unfortunately not one single method to speed up your code. But here are a few ideas:\n",
    "\n",
    "1. Eliminate computations that are not being used (e.g., computing variables you do not use; processing parts of images that will be discarded). \n",
    "2. Use `numpy` functions whenever possible for matrix operations\n",
    "3. Avoid using python `for` and `while` loops as they are slow\n",
    "4. If MKL/BLAS is being run inside of already-parallelized code, disable MKL/BLAS.\n",
    "5. Reduce the number of iterations or increase the tolerance of routines that are unncessarily precise (e.g., optimizers can run for less iterations; sin and cos can be approximated by taylor expansions). \n",
    "6. Avoid copying variables when they do not need to be copied (e.g., if the input is already a numpy.array, you don't need to wrap it with `np.array()` in ensure it's a numpy array). \n",
    "7. Turn some of your python code into C-code and call it with Python\n",
    "8. Other ideas?\n",
    "\n"
   ]
  },
  {
   "cell_type": "markdown",
   "metadata": {},
   "source": [
    "## Code Performance Extrapolation\n",
    "\n",
    "If your code takes 24 hours to run to completion, or needs to be run on a cluster, it is likely still easier to develop and benchmark it on your laptop. We can use extrapolation to estimate performance. \n",
    "\n",
    "### Runtime\n",
    "\n",
    "Generally algorithm runtimes scale as N^a where a is some positive number greater than 1, and N is the size of your data. (In CS terms, this is often disccused in \"Big O\" notation as  $O(N^a)$ runtime). If your data is too big or takes too long to benchmark on a single machine, try running your code on much smaller data. If you do this for ~3-5 different test data with different N, you can estimate what is the scaling of your code (i.e., what is \"a\"). Once you know the scaling you can use that scaling relation to extrapolate how long it will take on larger datasets. If you can also use more cores, you can divide the final runtime by the number of cores you can use. \n",
    "\n",
    "For example, my code takes 1 second on 10x10 data, 100 seconds on 100x100 data, and 400 seconds on 200x200 data (all on a single core). My code scales as N^2 where N is the size of one dimension of the data. If I want to run it on 10000x10000 data with 100 cores, my code should take (10000^2)/100 = 1,000,000 seconds to run.\n",
    "\n",
    "### Memory\n",
    "\n",
    "If you are worried that your program will run out of memory, try calculating how much memory your program uses. On modern 64-bit machines, a single number (an integer, float) takes up 8 bytes. If you have an array of 1000x1000 floats, then it will take up 8e6 bytes or 8 MBs. If you have 3-D numerical data with dimensions 1000x1000x1000, then it will take up 8e9 bytes or 8 GBs."
   ]
  },
  {
   "cell_type": "code",
   "execution_count": null,
   "metadata": {},
   "outputs": [],
   "source": []
  }
 ],
 "metadata": {
  "language_info": {
   "codemirror_mode": {
    "name": "ipython",
    "version": 3
   },
   "file_extension": ".py",
   "mimetype": "text/x-python",
   "name": "python",
   "nbconvert_exporter": "python",
   "pygments_lexer": "ipython3",
<<<<<<< HEAD
   "version": "3.7.6-final"
=======
   "version": "3.8.3-final"
>>>>>>> f28b7f2ba476c918161a4bfd664c8f50b1f63ff2
  },
  "orig_nbformat": 2,
  "kernelspec": {
   "name": "python3",
   "display_name": "Python 3"
  }
 },
 "nbformat": 4,
 "nbformat_minor": 2
}