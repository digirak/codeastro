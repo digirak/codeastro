{
 "cells": [
  {
   "cell_type": "markdown",
   "metadata": {},
   "source": [
    "# Software Development Environments"
   ]
  },
  {
   "cell_type": "markdown",
   "metadata": {},
   "source": [
    "## tl;dr\n",
    "\n",
    " * Integrated Development Environments (IDEs): we recommend you use one for software development ✔\n",
    " * Jupyter notebooks: great for tutorials and as a playground for getting familiar with code, but not great for software engineering 🚸\n",
    " * plain text editors: try to avoid, although sometimes you have to use one ⛔"
   ]
  },
  {
   "cell_type": "markdown",
   "metadata": {},
   "source": [
    "## Integrated Development Environments (IDEs)\n",
    "\n",
    " * All-in-one that comes with many features to help to code\n",
    " * We think it is worth the (small) effort to learn to use one\n",
    " * The two leading IDEs for Python are VS Code and PyCharm\n",
    " * We will be demoing useful features in VS Code throughout the week\n",
    " * Demo:\n",
    "    * VS Code workspace introduction\n",
    "    * Autocomplete\n",
    "    * Static error checking (linting)\n",
    "    * Git integration\n",
    "    * SSH integration"
   ]
  },
  {
   "cell_type": "markdown",
   "metadata": {},
   "source": [
    "## Jupyter Notebooks \n",
    "\n",
    " * Combination of code cells and Markdown text cells make it useful for writing tutorials\n",
    " * Running/rerunning one cell at a time allows you to play around with the code/understand how it works\n",
    " * Useful for plotting, solving a problem (think of it as a document)\n",
    " * Output depends on order cells are run/rerun -> not good for repeatability\n",
    " * Not designed for programming a software package"
   ]
  },
  {
   "cell_type": "markdown",
   "metadata": {},
   "source": [
    "## Plain text editors\n",
    "\n",
    "* The \"old-school\" editors (e.g., vim, emacs, nano, notepad++)\n",
    "* We generally recommend you avoid doing large amounts of programing in them as the code is prone to bugs\n",
    "* Sometimes inevitable in astronomy so it is good to learn a little bit of either vim or emacs\n",
    "* You can use VS Code over ssh, so you should not need to use these very often!"
   ]
  },
  {
   "cell_type": "markdown",
   "metadata": {},
   "source": [
    "# Object-Oriented and Functional Programming"
   ]
  },
  {
   "cell_type": "markdown",
   "metadata": {},
   "source": [
    "## tl;dr\n",
    "\n",
    " * Object-oriented programming relies on the state of variables to determine the output\n",
    "    * Good to keep track of something that is changing (e.g., the number of people in a Zoom meeting)\n",
    " * Functional programming relies solely on the inputs, which do not change, to determine the output\n",
    "    * Good for math equations (e.g., computing the inverse of a matrix)\n",
    " * Typically, you will want a mix of both programming paradigms"
   ]
  },
  {
   "cell_type": "markdown",
   "metadata": {},
   "source": [
    "## Object-Oriented Programming\n",
    " \n",
    "![](imgs/oo-meme.png)"
   ]
  },
  {
   "cell_type": "markdown",
   "metadata": {},
   "source": [
    "## Classes\n",
    "\n",
    " * Classes organize variables and functions into a single object\n",
    " * Objects can be used to track state - useful model for many things in the world\n",
    " * Refer to the diagnostic notebook for the basics on class and superclass syntax\n",
    "\n",
    "### Activity\n",
    "\n",
    " * Finish the following free fall gravity simulator. Use your simulation to determine how long it takes for a particle to fall to the ground from a height of 10 meters. We will poll everyone on what result they get.\n",
    " * Bonus activity: In the future, we want particles that experience other forces and move in 3D. Write a `Particle` superclass that the `FreeFallParticle` is a subclass of. What fields go into the `Particle` class?"
   ]
  },
  {
   "cell_type": "code",
   "execution_count": 13,
   "metadata": {
    "ExecuteTime": {
     "end_time": "2020-06-22T17:16:30.432748Z",
     "start_time": "2020-06-22T17:16:30.422079Z"
    }
   },
   "outputs": [],
   "source": [
    "# Object-Oriented Programming\n",
    "import astropy.units as u\n",
    "\n",
    "class FreeFallParticle(object):\n",
    "    \"\"\"\n",
    "    Simulate a particle falling due to Earth's gravity. Particle is stationary at first\n",
    "\n",
    "    Args:\n",
    "        height (float): a height in meters\n",
    "        dt (float): timestep of the simulation in seconds\n",
    "    \"\"\"\n",
    "    def __init__(self, height, dt=0.1):\n",
    "        \"\"\"\n",
    "        Function that is run to initialize the class\n",
    "        \"\"\"\n",
    "        self.height = height * u.m # current height\n",
    "        self.velocity = 0 * u.m/u.s # current velocity\n",
    "        self.time = 0 * u.s # time elapsed\n",
    "        self.dt = dt * u.s # timestep of the simulation\n",
    "        self.g = -9.8 * u.m/u.s**2 # gravitational acceleration (Don't change)\n",
    "\n",
    "    def get_num_steps_run(self):\n",
    "        \"\"\"\n",
    "        Function that returns the number of timesteps that have run by comparing self.time with self.dt\n",
    "\n",
    "        Returns:\n",
    "            num_steps (int): number of time steps already completed in the simulation\n",
    "        \"\"\"\n",
    "        num_steps = int(self.time / self.dt)\n",
    "        return num_steps\n",
    "\n",
    "    ##### Activity ######\n",
    "    \"\"\"\n",
    "    Add functionality to advance the particle's height by one time step at a time. (hint: implement the function below).\n",
    "    Then use this code to calculate how long it takes for the particle to fall down from a height of 10 meters.\n",
    "\n",
    "    Some useful equations for how to calculate the particle's new state at the next time step.\n",
    "    Pseudo code below:\n",
    "    acceleration = g\n",
    "    new_velocity = current_velocity + acceleration * dt\n",
    "    new_height = current_height + new_velocity * dt\n",
    "\n",
    "    Add inputs and outputs. \n",
    "    \"\"\"\n",
    "    def simulate_timestep(self):\n",
    "        \"\"\"\n",
    "        Advance the simulation time by a single timestep (self.dt). \n",
    "        Update the simulation with the new time, height, and velocity\n",
    "\n",
    "        Returns:\n",
    "            height (float): the current height in meters\n",
    "        \"\"\"\n",
    "        new_velocity=self.velocity+self.g*self.dt\n",
    "        new_height=self.height+new_velocity*self.dt\n",
    "        self.velocity=new_velocity\n",
    "        self.height=new_height\n",
    "        self.time=self.time+self.dt\n",
    "        return new_height # currently does nothing\n",
    "    "
   ]
  },
  {
   "cell_type": "code",
   "execution_count": 29,
   "metadata": {
    "ExecuteTime": {
     "end_time": "2020-06-22T17:22:23.806057Z",
     "start_time": "2020-06-22T17:22:23.802953Z"
    }
   },
   "outputs": [],
   "source": [
    "f=FreeFallParticle(1000)"
   ]
  },
  {
   "cell_type": "code",
   "execution_count": 33,
   "metadata": {
    "ExecuteTime": {
     "end_time": "2020-06-22T17:23:23.653746Z",
     "start_time": "2020-06-22T17:23:23.641414Z"
    }
   },
   "outputs": [
    {
     "name": "stdout",
     "output_type": "stream",
     "text": [
      "0.1 s 9.902 m\n",
      "0.2 s 9.706 m\n",
      "0.30000000000000004 s 9.411999999999999 m\n",
      "0.4 s 9.02 m\n",
      "0.5 s 8.53 m\n",
      "0.6 s 7.941999999999999 m\n",
      "0.7 s 7.255999999999999 m\n",
      "0.7999999999999999 s 6.4719999999999995 m\n",
      "0.8999999999999999 s 5.589999999999999 m\n",
      "0.9999999999999999 s 4.6099999999999985 m\n",
      "1.0999999999999999 s 3.5319999999999983 m\n",
      "1.2 s 2.355999999999998 m\n",
      "1.3 s 1.0819999999999976 m\n",
      "1.4000000000000001 s -0.2900000000000029 m\n"
     ]
    }
   ],
   "source": [
    "ball = FreeFallParticle(10) # start out a 10 m above the ground\n",
    "while(ball.height>0):\n",
    "    #_=f.simulate_timestep()\n",
    "   \n",
    "    #print(ball.time, ball.height)\n",
    "    ball.simulate_timestep()\n",
    "    print(ball.time, ball.height) # time should move forward by 0.1 seconds\n"
   ]
  },
  {
   "cell_type": "code",
   "execution_count": 31,
   "metadata": {
    "ExecuteTime": {
     "end_time": "2020-06-22T17:22:43.685656Z",
     "start_time": "2020-06-22T17:22:43.680559Z"
    }
   },
   "outputs": [
    {
     "data": {
      "text/latex": [
       "$0 \\; \\mathrm{\\frac{m}{s}}$"
      ],
      "text/plain": [
       "<Quantity 0. m / s>"
      ]
     },
     "execution_count": 31,
     "metadata": {},
     "output_type": "execute_result"
    }
   ],
   "source": [
    "f.velocity"
   ]
  },
  {
   "cell_type": "code",
   "execution_count": 23,
   "metadata": {
    "ExecuteTime": {
     "end_time": "2020-06-22T17:19:46.677063Z",
     "start_time": "2020-06-22T17:19:46.672243Z"
    }
   },
   "outputs": [
    {
     "name": "stdout",
     "output_type": "stream",
     "text": [
      "0.0 s 10.0 m\n",
      "0.1 s 9.902 m\n"
     ]
    }
   ],
   "source": [
    "# Here's how you could call this function\n",
    "ball = FreeFallParticle(10) # start out a 10 m above the ground\n",
    "print(ball.time, ball.height)\n",
    "ball.simulate_timestep()\n",
    "print(ball.time, ball.height) # time should move forward by 0.1 seconds"
   ]
  },
  {
   "cell_type": "markdown",
   "metadata": {},
   "source": [
    "## Object Oriented Programming\n",
    "    \n",
    " * Code structured around objects\n",
    " * Depends on changing/\"mutable\" state of the object (e.g., `self.height`, `self.velocity`, etc.)\n",
    " * Most things in the world change, so it makes sense to frame things in this way\n",
    " * We recommend identifying entities that should become objects and program around this\n",
    "   * For example, particles in a simulation can be grouped together in a class\n",
    "\n",
    "Some more subtle things to consider when using classes\n",
    "\n",
    "  * Creating an object can be slow. Too many object creations can slow down code\n",
    "  * Could be prone to bugs since function outputs depends on both inputs and the current state of the object"
   ]
  },
  {
   "cell_type": "markdown",
   "metadata": {},
   "source": [
    "## Functional Programming\n",
    "\n",
    "![](imgs/fp-meme.png)"
   ]
  },
  {
   "cell_type": "markdown",
   "metadata": {},
   "source": [
    "## Functional Programming\n",
    "\n",
    " * Key paradigm: functions outputs depend solely on the inputs\n",
    "    * Easier to guarantee correctness\n",
    "    * More messy to track changing state of things\n",
    " * Functional programming != no objects. Objects however are static data structures.\n",
    "    * You need to create a new object if you want to change an object\n",
    " * Useful for math problems, physics equations, unit conversions\n",
    "    * `import astropy.units as u; u.m.to(u.nm)`"
   ]
  },
  {
   "cell_type": "markdown",
   "metadata": {},
   "source": [
    "## Object Oriented vs Functional Programming\n",
    "\n",
    " * Object oriented programming is good when things change (e.g., the position of a planet, the current image being analyzed)\n",
    " * Functional programming is good to deterministic things (e.g., math equations, making sure you do not accidentally apply the same function twice)\n",
    " * Most packages use both"
   ]
  },
  {
   "cell_type": "code",
   "execution_count": null,
   "metadata": {},
   "outputs": [],
   "source": [
    "# Functional Programming Example. \n",
    "\n",
    "class Particle(object):\n",
    "    \"\"\"\n",
    "    A particle with a given height and vertical instantaneous velocity\n",
    "\n",
    "    Args:\n",
    "        height (float): height of the object currently in meters\n",
    "        velocity (float): velocity of the object in meters. Default is 0 (at rest)\n",
    "    \"\"\"\n",
    "    def __init__(self, height, velocity=0):\n",
    "        self.height = height * u.m\n",
    "        self.velocity = velocity * u.m/u.s\n",
    "\n",
    "def freefall_timestep(thing, dt=0.1):\n",
    "    \"\"\"\n",
    "    Simulate free fall of the particle for a small time step\n",
    "\n",
    "    Args:\n",
    "        thing (Particle): the current position and velocity of the particle\n",
    "        dt (float): optional float that specifies the timestep in seconds\n",
    "\n",
    "    Returns:\n",
    "        new_thing (Particle): the updated position and velocity of the particle\n",
    "    \"\"\"\n",
    "    dt_units = dt * u.s\n",
    "    new_velocity = thing.velocity + -9.8 * u.m / u.s**2 * dt_units\n",
    "    new_height = thing.height + new_velocity * dt_units\n",
    "\n",
    "    new_thing = Particle(new_height.value, new_velocity.value)\n",
    "    return new_thing\n",
    "\n",
    "\n",
    "ball = Particle(1) # start a ball at 1 m\n",
    "ball_states = [ball]\n",
    "print(0 * u.s, ball.height)\n",
    "dt = 0.1\n",
    "time = 0\n",
    "\n",
    "for i in range(5):\n",
    "    new_ball = freefall_timestep(ball_states[-1], dt)\n",
    "    ball_states = ball_states + [new_ball,]\n",
    "    time += dt\n",
    "    print(time * u.s, new_ball.height)\n",
    "\n",
    "\n",
    "# Running the function with the same inputs will return the same result\n",
    "# This generally would not happen with object oriented programming\n",
    "# When is this good or bad?\n",
    "output_ball_1 = freefall_timestep(ball, dt)\n",
    "output_ball_2 = freefall_timestep(ball, dt)\n",
    "print(\"Are these the same?\", output_ball_1.height, output_ball_2.height)\n",
    "\n"
   ]
  },
  {
   "cell_type": "markdown",
   "metadata": {},
   "source": [
    "## Bonus Activity\n",
    "\n",
    "Write a function that returns the history of heights that the object was at (and their corresponding times). For example, if the object was at `height = 1` at `time = 0`, `height = 0.902` at `t = 0.1`, and `height = 0.706` at `t = 0.2`, the function should return `[1, 0.902, 0.706]` for the heights and `[0, 0.1, 0.2]` for the corresponding times. Choose to implement it either in the object oriented or functional framework we provided. If you have time, try the other one too! \n"
   ]
  },
  {
   "cell_type": "code",
   "execution_count": null,
   "metadata": {},
   "outputs": [],
   "source": []
  }
 ],
 "metadata": {
  "file_extension": ".py",
  "kernelspec": {
   "display_name": "Python 3",
   "language": "python",
   "name": "python3"
  },
  "language_info": {
   "codemirror_mode": {
    "name": "ipython",
    "version": 3
   },
   "file_extension": ".py",
   "mimetype": "text/x-python",
   "name": "python",
   "nbconvert_exporter": "python",
   "pygments_lexer": "ipython3",
   "version": "3.7.6"
  },
  "mimetype": "text/x-python",
  "name": "python",
  "npconvert_exporter": "python",
  "pygments_lexer": "ipython3",
  "toc": {
   "base_numbering": 1,
   "nav_menu": {},
   "number_sections": true,
   "sideBar": true,
   "skip_h1_title": false,
   "title_cell": "Table of Contents",
   "title_sidebar": "Contents",
   "toc_cell": false,
   "toc_position": {},
   "toc_section_display": true,
   "toc_window_display": false
  },
  "varInspector": {
   "cols": {
    "lenName": 16,
    "lenType": 16,
    "lenVar": 40
   },
   "kernels_config": {
    "python": {
     "delete_cmd_postfix": "",
     "delete_cmd_prefix": "del ",
     "library": "var_list.py",
     "varRefreshCmd": "print(var_dic_list())"
    },
    "r": {
     "delete_cmd_postfix": ") ",
     "delete_cmd_prefix": "rm(",
     "library": "var_list.r",
     "varRefreshCmd": "cat(var_dic_list()) "
    }
   },
   "types_to_exclude": [
    "module",
    "function",
    "builtin_function_or_method",
    "instance",
    "_Feature"
   ],
   "window_display": false
  },
  "version": 3
 },
 "nbformat": 4,
 "nbformat_minor": 2
}
